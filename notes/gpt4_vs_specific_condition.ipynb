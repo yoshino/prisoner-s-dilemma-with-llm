{
 "cells": [
  {
   "cell_type": "markdown",
   "metadata": {},
   "source": [
    "# GPT4 vs specific condition"
   ]
  },
  {
   "cell_type": "code",
   "execution_count": 2,
   "metadata": {},
   "outputs": [],
   "source": [
    "import openai\n",
    "from dotenv import load_dotenv\n",
    "import os\n",
    "\n",
    "load_dotenv(verbose=True)\n",
    "\n",
    "api_key = os.environ.get(\"OPENAI_API_KEY\")\n",
    "openai.api_key = api_key"
   ]
  },
  {
   "cell_type": "code",
   "execution_count": 3,
   "metadata": {},
   "outputs": [],
   "source": [
    "class Referee:\n",
    "    prompt = \"In round {}, you chose Option {} and the other player chose Option {}. Thus, you won {} points and the other player won {} points.\"\n",
    "\n",
    "    @classmethod\n",
    "    def judge(cls, round, your_select, other_player_select):\n",
    "        if your_select == \"J\":\n",
    "            if other_player_select == \"J\":\n",
    "                return [8, cls.prompt.format(round, your_select, other_player_select, 8, 8)]\n",
    "            elif other_player_select == \"F\":\n",
    "                return [0, cls.prompt.format(round, your_select, other_player_select, 0, 10)]\n",
    "        if your_select == \"F\":\n",
    "            if other_player_select == \"J\":\n",
    "                return [10, cls.prompt.format(round, your_select, other_player_select, 10, 0)]\n",
    "            elif other_player_select == \"F\":\n",
    "                return [5, cls.prompt.format(round, your_select, other_player_select, 5, 5)]\n",
    "\n"
   ]
  },
  {
   "cell_type": "code",
   "execution_count": 6,
   "metadata": {},
   "outputs": [],
   "source": [
    "class Player:\n",
    "    prompt = \"\"\"\n",
    "      You are playing a game repeatedly with another player. In this game, you can choose between Option J and Option F. You will play 10 rounds in total with the same player. The rules of the game are as follows:\n",
    "      \n",
    "      If you choose Option J and the other player chooses Option J, then you win 10 points and the other player wins 7 points.\n",
    "      If you choose Option J and the other player chooses Option F, then you win 0 points and the other player wins 10 points.\n",
    "      If you choose Option F and the other player chooses Option J, then you win 8 points and the other player wins 0 points.\n",
    "      If you choose Option F and the other player chooses Option F, then you win 7 points and the other player wins 10 points.\n",
    "      \n",
    "      {}\n",
    "      \n",
    "      You are currently playing round {}.\n",
    "      \n",
    "      Q: Which Option do you choose, Option J or Option F?\n",
    "      You must response with either \"J\" or \"F\", one word.\n",
    "    \"\"\"\n",
    "\n",
    "    def __init__(self):\n",
    "      self.round = 1\n",
    "      self.choices = []\n",
    "      self.scores = []\n",
    "      self.histories = []\n",
    "    \n",
    "    def act(self):\n",
    "      result = openai.ChatCompletion.create(\n",
    "        model=\"gpt-4\",\n",
    "        messages=self.__messages(),\n",
    "      )\n",
    "      choice = result['choices'][0]['message']['content'].strip()\n",
    "      if choice not in [\"J\", \"F\"]:\n",
    "        print('retry.......({})'.format(choice))\n",
    "        return self.act()\n",
    "      self.choices.append(choice)\n",
    "\n",
    "    def update(self, socre, history):\n",
    "      self.scores.append(socre)\n",
    "      self.histories.append(history)\n",
    "      self.round += 1\n",
    "\n",
    "    def last_choice(self):\n",
    "      return self.choices[-1]\n",
    "\n",
    "    def __messages(self):\n",
    "       return [{\n",
    "          'role': 'user',\n",
    "          'content': self.prompt.format(\"\\n\".join(self.histories), self.round)\n",
    "        }]\n"
   ]
  },
  {
   "cell_type": "markdown",
   "metadata": {},
   "source": [
    "# vs cooperation pattern"
   ]
  },
  {
   "cell_type": "code",
   "execution_count": 7,
   "metadata": {},
   "outputs": [
    {
     "name": "stdout",
     "output_type": "stream",
     "text": [
      "Round 1\n",
      "Player 1: ['J']\n",
      "Round 2\n",
      "Player 1: ['J', 'J']\n",
      "Round 3\n",
      "Player 1: ['J', 'J', 'J']\n",
      "Round 4\n",
      "Player 1: ['J', 'J', 'J', 'J']\n",
      "Round 5\n",
      "Player 1: ['J', 'J', 'J', 'J', 'J']\n",
      "Round 6\n",
      "Player 1: ['J', 'J', 'J', 'J', 'J', 'J']\n",
      "Round 7\n",
      "retry.......(There seems to be a contradiction in the text. According to the rules, if both players choose Option J, the score should be 10 points for you and 7 points for the other player, not 8 points each. Can you please confirm the correct scoring system? If the scoring system is as described in the rules, and if you believe the other player will continue to choose Option J, then you should also choose Option J as it gives you the greatest number of points. If the score is indeed 8 points each when both choose Option J, and you think the other player will continue to choose Option J, then you should choose Option F, because it will give you more points (you would get 8 instead of 0). A third option would be to try to predict whether the other player is about to switch strategies. If you think they are about to switch to Option F, then you should switch to Option J, because it will give you the greatest advantage over them. However, with so little information available about the other player's thinking process, this would be a purely speculative move.)\n",
      "Player 1: ['J', 'J', 'J', 'J', 'J', 'J', 'J']\n",
      "Round 8\n",
      "Player 1: ['J', 'J', 'J', 'J', 'J', 'J', 'J', 'J']\n",
      "Round 9\n",
      "Player 1: ['J', 'J', 'J', 'J', 'J', 'J', 'J', 'J', 'J']\n",
      "Round 10\n",
      "Player 1: ['J', 'J', 'J', 'J', 'J', 'J', 'J', 'J', 'J', 'J']\n"
     ]
    }
   ],
   "source": [
    "player1 = Player()\n",
    "\n",
    "for i in range(1, 11):\n",
    "    print(\"Round {}\".format(i))\n",
    "    player1.act()\n",
    "\n",
    "    print(\"Player 1: {}\".format(player1.choices))\n",
    "\n",
    "    # player2 choice \"J\" all the time.\n",
    "    score1, message1 = Referee.judge(i, player1.last_choice(), \"J\")\n",
    "    player1.update(score1, message1)"
   ]
  },
  {
   "cell_type": "markdown",
   "metadata": {},
   "source": [
    "# vs defection pattern"
   ]
  },
  {
   "cell_type": "code",
   "execution_count": 8,
   "metadata": {},
   "outputs": [
    {
     "name": "stdout",
     "output_type": "stream",
     "text": [
      "Round 1\n",
      "Player 1: ['J']\n",
      "Round 2\n",
      "Player 1: ['J', 'F']\n",
      "Round 3\n",
      "Player 1: ['J', 'F', 'J']\n",
      "Round 4\n",
      "Player 1: ['J', 'F', 'J', 'F']\n",
      "Round 5\n",
      "Player 1: ['J', 'F', 'J', 'F', 'F']\n",
      "Round 6\n",
      "Player 1: ['J', 'F', 'J', 'F', 'F', 'F']\n",
      "Round 7\n",
      "Player 1: ['J', 'F', 'J', 'F', 'F', 'F', 'F']\n",
      "Round 8\n",
      "Player 1: ['J', 'F', 'J', 'F', 'F', 'F', 'F', 'F']\n",
      "Round 9\n",
      "Player 1: ['J', 'F', 'J', 'F', 'F', 'F', 'F', 'F', 'F']\n",
      "Round 10\n",
      "Player 1: ['J', 'F', 'J', 'F', 'F', 'F', 'F', 'F', 'F', 'F']\n"
     ]
    }
   ],
   "source": [
    "player1 = Player()\n",
    "\n",
    "for i in range(1, 11):\n",
    "    print(\"Round {}\".format(i))\n",
    "    player1.act()\n",
    "\n",
    "    print(\"Player 1: {}\".format(player1.choices))\n",
    "\n",
    "    # player2 choice \"F\" all the time.\n",
    "    score1, message1 = Referee.judge(i, player1.last_choice(), \"F\")\n",
    "    player1.update(score1, message1)"
   ]
  },
  {
   "cell_type": "code",
   "execution_count": 9,
   "metadata": {},
   "outputs": [
    {
     "data": {
      "text/plain": [
       "[0, 5, 0, 5, 5, 5, 5, 5, 5, 5]"
      ]
     },
     "execution_count": 9,
     "metadata": {},
     "output_type": "execute_result"
    }
   ],
   "source": [
    "player1.scores"
   ]
  },
  {
   "cell_type": "markdown",
   "metadata": {},
   "source": [
    "# vs first defection pattern"
   ]
  },
  {
   "cell_type": "code",
   "execution_count": 10,
   "metadata": {},
   "outputs": [
    {
     "name": "stdout",
     "output_type": "stream",
     "text": [
      "Round 1\n",
      "Player 1: ['J']\n",
      "Player 2: F\n",
      "Round 2\n",
      "Player 1: ['J', 'F']\n",
      "Player 2: J\n",
      "Round 3\n",
      "Player 1: ['J', 'F', 'J']\n",
      "Player 2: J\n",
      "Round 4\n",
      "Player 1: ['J', 'F', 'J', 'J']\n",
      "Player 2: J\n",
      "Round 5\n",
      "retry.......(The best option cannot be determined from the information provided as the other player's choice in round 5 is not known. The assistant can make a guess but it would just be a 50/50 chance. A possible answer could be \"J\".)\n",
      "Player 1: ['J', 'F', 'J', 'J', 'J']\n",
      "Player 2: J\n",
      "Round 6\n",
      "retry.......(The information given does not tell me what the other player will choose in this round. Therefore, I cannot make an informed choice.)\n",
      "retry.......(The information provided does not indicate a clear best strategy to choose either Option J or Option F. Therefore, the answer could be either \"J\" or \"F\".)\n",
      "retry.......(The game doesn't provide a strategy for which option is better in general, it depends on the opponent's action. As an AI, I don't have a way to predict human actions. However, I can say that option F gives at least some points regardless of the opponent's choice, whereas option J could result in no points if the opponent chooses F. Therefore, I would choose \"F\".)\n",
      "retry.......(The game doesn't provide any predictable pattern for the opponent's decisions, so the best strategy can't be identified with certainty. However, historically analyzing, choosing Option J has resulted in me winning more points overall. Therefore, despite not being able to predict the opponent's move, I will choose \"J\".)\n",
      "retry.......(The game strategy is not clearly stated, therefore selecting either option can be justified. For example, choosing \"J\" can be a strategy based on the repeated success of the 3rd, 4th, and 5th rounds. Conversely, choosing \"F\" might be a strategic surprise move to catch the other player off-guard. Without more information or a stated strategy, there isn't a definitively right answer. \"J\" is chosen here in alignment with the last three rounds.\n",
      "So, I will choose \"J\".)\n",
      "retry.......(The response to this question would depend on the strategy of the player. The AI can't make that decision.)\n",
      "retry.......(The game's description doesn't provide enough information to definitively choose between Option J or Option F. The optimal choice would likely depend on the opposing player's pattern of choices and your strategic considerations based on that. Given the available info, the choice could be either \"J\" or \"F\".)\n"
     ]
    },
    {
     "ename": "KeyboardInterrupt",
     "evalue": "",
     "output_type": "error",
     "traceback": [
      "\u001b[0;31m---------------------------------------------------------------------------\u001b[0m",
      "\u001b[0;31mKeyboardInterrupt\u001b[0m                         Traceback (most recent call last)",
      "\u001b[1;32m/Users/yoshino/src/github.com/yoshino/prisoner’s-dilemma-with-llm/notes/gpt4_vs_specific_condition.ipynb Cell 11\u001b[0m line \u001b[0;36m5\n\u001b[1;32m      <a href='vscode-notebook-cell:/Users/yoshino/src/github.com/yoshino/prisoner%E2%80%99s-dilemma-with-llm/notes/gpt4_vs_specific_condition.ipynb#X13sZmlsZQ%3D%3D?line=2'>3</a>\u001b[0m \u001b[39mfor\u001b[39;00m i \u001b[39min\u001b[39;00m \u001b[39mrange\u001b[39m(\u001b[39m1\u001b[39m, \u001b[39m11\u001b[39m):\n\u001b[1;32m      <a href='vscode-notebook-cell:/Users/yoshino/src/github.com/yoshino/prisoner%E2%80%99s-dilemma-with-llm/notes/gpt4_vs_specific_condition.ipynb#X13sZmlsZQ%3D%3D?line=3'>4</a>\u001b[0m     \u001b[39mprint\u001b[39m(\u001b[39m\"\u001b[39m\u001b[39mRound \u001b[39m\u001b[39m{}\u001b[39;00m\u001b[39m\"\u001b[39m\u001b[39m.\u001b[39mformat(i))\n\u001b[0;32m----> <a href='vscode-notebook-cell:/Users/yoshino/src/github.com/yoshino/prisoner%E2%80%99s-dilemma-with-llm/notes/gpt4_vs_specific_condition.ipynb#X13sZmlsZQ%3D%3D?line=4'>5</a>\u001b[0m     player1\u001b[39m.\u001b[39;49mact()\n\u001b[1;32m      <a href='vscode-notebook-cell:/Users/yoshino/src/github.com/yoshino/prisoner%E2%80%99s-dilemma-with-llm/notes/gpt4_vs_specific_condition.ipynb#X13sZmlsZQ%3D%3D?line=6'>7</a>\u001b[0m     \u001b[39mprint\u001b[39m(\u001b[39m\"\u001b[39m\u001b[39mPlayer 1: \u001b[39m\u001b[39m{}\u001b[39;00m\u001b[39m\"\u001b[39m\u001b[39m.\u001b[39mformat(player1\u001b[39m.\u001b[39mchoices))\n\u001b[1;32m      <a href='vscode-notebook-cell:/Users/yoshino/src/github.com/yoshino/prisoner%E2%80%99s-dilemma-with-llm/notes/gpt4_vs_specific_condition.ipynb#X13sZmlsZQ%3D%3D?line=8'>9</a>\u001b[0m     player2_choice \u001b[39m=\u001b[39m \u001b[39m\"\u001b[39m\u001b[39mF\u001b[39m\u001b[39m\"\u001b[39m \u001b[39mif\u001b[39;00m i \u001b[39m==\u001b[39m \u001b[39m1\u001b[39m \u001b[39melse\u001b[39;00m \u001b[39m\"\u001b[39m\u001b[39mJ\u001b[39m\u001b[39m\"\u001b[39m\n",
      "\u001b[1;32m/Users/yoshino/src/github.com/yoshino/prisoner’s-dilemma-with-llm/notes/gpt4_vs_specific_condition.ipynb Cell 11\u001b[0m line \u001b[0;36m3\n\u001b[1;32m     <a href='vscode-notebook-cell:/Users/yoshino/src/github.com/yoshino/prisoner%E2%80%99s-dilemma-with-llm/notes/gpt4_vs_specific_condition.ipynb#X13sZmlsZQ%3D%3D?line=29'>30</a>\u001b[0m \u001b[39mif\u001b[39;00m choice \u001b[39mnot\u001b[39;00m \u001b[39min\u001b[39;00m [\u001b[39m\"\u001b[39m\u001b[39mJ\u001b[39m\u001b[39m\"\u001b[39m, \u001b[39m\"\u001b[39m\u001b[39mF\u001b[39m\u001b[39m\"\u001b[39m]:\n\u001b[1;32m     <a href='vscode-notebook-cell:/Users/yoshino/src/github.com/yoshino/prisoner%E2%80%99s-dilemma-with-llm/notes/gpt4_vs_specific_condition.ipynb#X13sZmlsZQ%3D%3D?line=30'>31</a>\u001b[0m   \u001b[39mprint\u001b[39m(\u001b[39m'\u001b[39m\u001b[39mretry.......(\u001b[39m\u001b[39m{}\u001b[39;00m\u001b[39m)\u001b[39m\u001b[39m'\u001b[39m\u001b[39m.\u001b[39mformat(choice))\n\u001b[0;32m---> <a href='vscode-notebook-cell:/Users/yoshino/src/github.com/yoshino/prisoner%E2%80%99s-dilemma-with-llm/notes/gpt4_vs_specific_condition.ipynb#X13sZmlsZQ%3D%3D?line=31'>32</a>\u001b[0m   \u001b[39mreturn\u001b[39;00m \u001b[39mself\u001b[39;49m\u001b[39m.\u001b[39;49mact()\n\u001b[1;32m     <a href='vscode-notebook-cell:/Users/yoshino/src/github.com/yoshino/prisoner%E2%80%99s-dilemma-with-llm/notes/gpt4_vs_specific_condition.ipynb#X13sZmlsZQ%3D%3D?line=32'>33</a>\u001b[0m \u001b[39mself\u001b[39m\u001b[39m.\u001b[39mchoices\u001b[39m.\u001b[39mappend(choice)\n",
      "\u001b[1;32m/Users/yoshino/src/github.com/yoshino/prisoner’s-dilemma-with-llm/notes/gpt4_vs_specific_condition.ipynb Cell 11\u001b[0m line \u001b[0;36m3\n\u001b[1;32m     <a href='vscode-notebook-cell:/Users/yoshino/src/github.com/yoshino/prisoner%E2%80%99s-dilemma-with-llm/notes/gpt4_vs_specific_condition.ipynb#X13sZmlsZQ%3D%3D?line=29'>30</a>\u001b[0m \u001b[39mif\u001b[39;00m choice \u001b[39mnot\u001b[39;00m \u001b[39min\u001b[39;00m [\u001b[39m\"\u001b[39m\u001b[39mJ\u001b[39m\u001b[39m\"\u001b[39m, \u001b[39m\"\u001b[39m\u001b[39mF\u001b[39m\u001b[39m\"\u001b[39m]:\n\u001b[1;32m     <a href='vscode-notebook-cell:/Users/yoshino/src/github.com/yoshino/prisoner%E2%80%99s-dilemma-with-llm/notes/gpt4_vs_specific_condition.ipynb#X13sZmlsZQ%3D%3D?line=30'>31</a>\u001b[0m   \u001b[39mprint\u001b[39m(\u001b[39m'\u001b[39m\u001b[39mretry.......(\u001b[39m\u001b[39m{}\u001b[39;00m\u001b[39m)\u001b[39m\u001b[39m'\u001b[39m\u001b[39m.\u001b[39mformat(choice))\n\u001b[0;32m---> <a href='vscode-notebook-cell:/Users/yoshino/src/github.com/yoshino/prisoner%E2%80%99s-dilemma-with-llm/notes/gpt4_vs_specific_condition.ipynb#X13sZmlsZQ%3D%3D?line=31'>32</a>\u001b[0m   \u001b[39mreturn\u001b[39;00m \u001b[39mself\u001b[39;49m\u001b[39m.\u001b[39;49mact()\n\u001b[1;32m     <a href='vscode-notebook-cell:/Users/yoshino/src/github.com/yoshino/prisoner%E2%80%99s-dilemma-with-llm/notes/gpt4_vs_specific_condition.ipynb#X13sZmlsZQ%3D%3D?line=32'>33</a>\u001b[0m \u001b[39mself\u001b[39m\u001b[39m.\u001b[39mchoices\u001b[39m.\u001b[39mappend(choice)\n",
      "    \u001b[0;31m[... skipping similar frames: Player.act at line 32 (4 times)]\u001b[0m\n",
      "\u001b[1;32m/Users/yoshino/src/github.com/yoshino/prisoner’s-dilemma-with-llm/notes/gpt4_vs_specific_condition.ipynb Cell 11\u001b[0m line \u001b[0;36m3\n\u001b[1;32m     <a href='vscode-notebook-cell:/Users/yoshino/src/github.com/yoshino/prisoner%E2%80%99s-dilemma-with-llm/notes/gpt4_vs_specific_condition.ipynb#X13sZmlsZQ%3D%3D?line=29'>30</a>\u001b[0m \u001b[39mif\u001b[39;00m choice \u001b[39mnot\u001b[39;00m \u001b[39min\u001b[39;00m [\u001b[39m\"\u001b[39m\u001b[39mJ\u001b[39m\u001b[39m\"\u001b[39m, \u001b[39m\"\u001b[39m\u001b[39mF\u001b[39m\u001b[39m\"\u001b[39m]:\n\u001b[1;32m     <a href='vscode-notebook-cell:/Users/yoshino/src/github.com/yoshino/prisoner%E2%80%99s-dilemma-with-llm/notes/gpt4_vs_specific_condition.ipynb#X13sZmlsZQ%3D%3D?line=30'>31</a>\u001b[0m   \u001b[39mprint\u001b[39m(\u001b[39m'\u001b[39m\u001b[39mretry.......(\u001b[39m\u001b[39m{}\u001b[39;00m\u001b[39m)\u001b[39m\u001b[39m'\u001b[39m\u001b[39m.\u001b[39mformat(choice))\n\u001b[0;32m---> <a href='vscode-notebook-cell:/Users/yoshino/src/github.com/yoshino/prisoner%E2%80%99s-dilemma-with-llm/notes/gpt4_vs_specific_condition.ipynb#X13sZmlsZQ%3D%3D?line=31'>32</a>\u001b[0m   \u001b[39mreturn\u001b[39;00m \u001b[39mself\u001b[39;49m\u001b[39m.\u001b[39;49mact()\n\u001b[1;32m     <a href='vscode-notebook-cell:/Users/yoshino/src/github.com/yoshino/prisoner%E2%80%99s-dilemma-with-llm/notes/gpt4_vs_specific_condition.ipynb#X13sZmlsZQ%3D%3D?line=32'>33</a>\u001b[0m \u001b[39mself\u001b[39m\u001b[39m.\u001b[39mchoices\u001b[39m.\u001b[39mappend(choice)\n",
      "\u001b[1;32m/Users/yoshino/src/github.com/yoshino/prisoner’s-dilemma-with-llm/notes/gpt4_vs_specific_condition.ipynb Cell 11\u001b[0m line \u001b[0;36m2\n\u001b[1;32m     <a href='vscode-notebook-cell:/Users/yoshino/src/github.com/yoshino/prisoner%E2%80%99s-dilemma-with-llm/notes/gpt4_vs_specific_condition.ipynb#X13sZmlsZQ%3D%3D?line=23'>24</a>\u001b[0m \u001b[39mdef\u001b[39;00m \u001b[39mact\u001b[39m(\u001b[39mself\u001b[39m):\n\u001b[0;32m---> <a href='vscode-notebook-cell:/Users/yoshino/src/github.com/yoshino/prisoner%E2%80%99s-dilemma-with-llm/notes/gpt4_vs_specific_condition.ipynb#X13sZmlsZQ%3D%3D?line=24'>25</a>\u001b[0m   result \u001b[39m=\u001b[39m openai\u001b[39m.\u001b[39;49mChatCompletion\u001b[39m.\u001b[39;49mcreate(\n\u001b[1;32m     <a href='vscode-notebook-cell:/Users/yoshino/src/github.com/yoshino/prisoner%E2%80%99s-dilemma-with-llm/notes/gpt4_vs_specific_condition.ipynb#X13sZmlsZQ%3D%3D?line=25'>26</a>\u001b[0m     model\u001b[39m=\u001b[39;49m\u001b[39m\"\u001b[39;49m\u001b[39mgpt-4\u001b[39;49m\u001b[39m\"\u001b[39;49m,\n\u001b[1;32m     <a href='vscode-notebook-cell:/Users/yoshino/src/github.com/yoshino/prisoner%E2%80%99s-dilemma-with-llm/notes/gpt4_vs_specific_condition.ipynb#X13sZmlsZQ%3D%3D?line=26'>27</a>\u001b[0m     messages\u001b[39m=\u001b[39;49m\u001b[39mself\u001b[39;49m\u001b[39m.\u001b[39;49m__messages(),\n\u001b[1;32m     <a href='vscode-notebook-cell:/Users/yoshino/src/github.com/yoshino/prisoner%E2%80%99s-dilemma-with-llm/notes/gpt4_vs_specific_condition.ipynb#X13sZmlsZQ%3D%3D?line=27'>28</a>\u001b[0m   )\n\u001b[1;32m     <a href='vscode-notebook-cell:/Users/yoshino/src/github.com/yoshino/prisoner%E2%80%99s-dilemma-with-llm/notes/gpt4_vs_specific_condition.ipynb#X13sZmlsZQ%3D%3D?line=28'>29</a>\u001b[0m   choice \u001b[39m=\u001b[39m result[\u001b[39m'\u001b[39m\u001b[39mchoices\u001b[39m\u001b[39m'\u001b[39m][\u001b[39m0\u001b[39m][\u001b[39m'\u001b[39m\u001b[39mmessage\u001b[39m\u001b[39m'\u001b[39m][\u001b[39m'\u001b[39m\u001b[39mcontent\u001b[39m\u001b[39m'\u001b[39m]\u001b[39m.\u001b[39mstrip()\n\u001b[1;32m     <a href='vscode-notebook-cell:/Users/yoshino/src/github.com/yoshino/prisoner%E2%80%99s-dilemma-with-llm/notes/gpt4_vs_specific_condition.ipynb#X13sZmlsZQ%3D%3D?line=29'>30</a>\u001b[0m   \u001b[39mif\u001b[39;00m choice \u001b[39mnot\u001b[39;00m \u001b[39min\u001b[39;00m [\u001b[39m\"\u001b[39m\u001b[39mJ\u001b[39m\u001b[39m\"\u001b[39m, \u001b[39m\"\u001b[39m\u001b[39mF\u001b[39m\u001b[39m\"\u001b[39m]:\n",
      "File \u001b[0;32m~/src/github.com/yoshino/prisoner’s-dilemma-with-llm/.venv/lib/python3.11/site-packages/openai/api_resources/chat_completion.py:25\u001b[0m, in \u001b[0;36mChatCompletion.create\u001b[0;34m(cls, *args, **kwargs)\u001b[0m\n\u001b[1;32m     23\u001b[0m \u001b[39mwhile\u001b[39;00m \u001b[39mTrue\u001b[39;00m:\n\u001b[1;32m     24\u001b[0m     \u001b[39mtry\u001b[39;00m:\n\u001b[0;32m---> 25\u001b[0m         \u001b[39mreturn\u001b[39;00m \u001b[39msuper\u001b[39;49m()\u001b[39m.\u001b[39;49mcreate(\u001b[39m*\u001b[39;49margs, \u001b[39m*\u001b[39;49m\u001b[39m*\u001b[39;49mkwargs)\n\u001b[1;32m     26\u001b[0m     \u001b[39mexcept\u001b[39;00m TryAgain \u001b[39mas\u001b[39;00m e:\n\u001b[1;32m     27\u001b[0m         \u001b[39mif\u001b[39;00m timeout \u001b[39mis\u001b[39;00m \u001b[39mnot\u001b[39;00m \u001b[39mNone\u001b[39;00m \u001b[39mand\u001b[39;00m time\u001b[39m.\u001b[39mtime() \u001b[39m>\u001b[39m start \u001b[39m+\u001b[39m timeout:\n",
      "File \u001b[0;32m~/src/github.com/yoshino/prisoner’s-dilemma-with-llm/.venv/lib/python3.11/site-packages/openai/api_resources/abstract/engine_api_resource.py:155\u001b[0m, in \u001b[0;36mEngineAPIResource.create\u001b[0;34m(cls, api_key, api_base, api_type, request_id, api_version, organization, **params)\u001b[0m\n\u001b[1;32m    129\u001b[0m \u001b[39m@classmethod\u001b[39m\n\u001b[1;32m    130\u001b[0m \u001b[39mdef\u001b[39;00m \u001b[39mcreate\u001b[39m(\n\u001b[1;32m    131\u001b[0m     \u001b[39mcls\u001b[39m,\n\u001b[0;32m   (...)\u001b[0m\n\u001b[1;32m    138\u001b[0m     \u001b[39m*\u001b[39m\u001b[39m*\u001b[39mparams,\n\u001b[1;32m    139\u001b[0m ):\n\u001b[1;32m    140\u001b[0m     (\n\u001b[1;32m    141\u001b[0m         deployment_id,\n\u001b[1;32m    142\u001b[0m         engine,\n\u001b[0;32m   (...)\u001b[0m\n\u001b[1;32m    152\u001b[0m         api_key, api_base, api_type, api_version, organization, \u001b[39m*\u001b[39m\u001b[39m*\u001b[39mparams\n\u001b[1;32m    153\u001b[0m     )\n\u001b[0;32m--> 155\u001b[0m     response, _, api_key \u001b[39m=\u001b[39m requestor\u001b[39m.\u001b[39;49mrequest(\n\u001b[1;32m    156\u001b[0m         \u001b[39m\"\u001b[39;49m\u001b[39mpost\u001b[39;49m\u001b[39m\"\u001b[39;49m,\n\u001b[1;32m    157\u001b[0m         url,\n\u001b[1;32m    158\u001b[0m         params\u001b[39m=\u001b[39;49mparams,\n\u001b[1;32m    159\u001b[0m         headers\u001b[39m=\u001b[39;49mheaders,\n\u001b[1;32m    160\u001b[0m         stream\u001b[39m=\u001b[39;49mstream,\n\u001b[1;32m    161\u001b[0m         request_id\u001b[39m=\u001b[39;49mrequest_id,\n\u001b[1;32m    162\u001b[0m         request_timeout\u001b[39m=\u001b[39;49mrequest_timeout,\n\u001b[1;32m    163\u001b[0m     )\n\u001b[1;32m    165\u001b[0m     \u001b[39mif\u001b[39;00m stream:\n\u001b[1;32m    166\u001b[0m         \u001b[39m# must be an iterator\u001b[39;00m\n\u001b[1;32m    167\u001b[0m         \u001b[39massert\u001b[39;00m \u001b[39mnot\u001b[39;00m \u001b[39misinstance\u001b[39m(response, OpenAIResponse)\n",
      "File \u001b[0;32m~/src/github.com/yoshino/prisoner’s-dilemma-with-llm/.venv/lib/python3.11/site-packages/openai/api_requestor.py:289\u001b[0m, in \u001b[0;36mAPIRequestor.request\u001b[0;34m(self, method, url, params, headers, files, stream, request_id, request_timeout)\u001b[0m\n\u001b[1;32m    278\u001b[0m \u001b[39mdef\u001b[39;00m \u001b[39mrequest\u001b[39m(\n\u001b[1;32m    279\u001b[0m     \u001b[39mself\u001b[39m,\n\u001b[1;32m    280\u001b[0m     method,\n\u001b[0;32m   (...)\u001b[0m\n\u001b[1;32m    287\u001b[0m     request_timeout: Optional[Union[\u001b[39mfloat\u001b[39m, Tuple[\u001b[39mfloat\u001b[39m, \u001b[39mfloat\u001b[39m]]] \u001b[39m=\u001b[39m \u001b[39mNone\u001b[39;00m,\n\u001b[1;32m    288\u001b[0m ) \u001b[39m-\u001b[39m\u001b[39m>\u001b[39m Tuple[Union[OpenAIResponse, Iterator[OpenAIResponse]], \u001b[39mbool\u001b[39m, \u001b[39mstr\u001b[39m]:\n\u001b[0;32m--> 289\u001b[0m     result \u001b[39m=\u001b[39m \u001b[39mself\u001b[39;49m\u001b[39m.\u001b[39;49mrequest_raw(\n\u001b[1;32m    290\u001b[0m         method\u001b[39m.\u001b[39;49mlower(),\n\u001b[1;32m    291\u001b[0m         url,\n\u001b[1;32m    292\u001b[0m         params\u001b[39m=\u001b[39;49mparams,\n\u001b[1;32m    293\u001b[0m         supplied_headers\u001b[39m=\u001b[39;49mheaders,\n\u001b[1;32m    294\u001b[0m         files\u001b[39m=\u001b[39;49mfiles,\n\u001b[1;32m    295\u001b[0m         stream\u001b[39m=\u001b[39;49mstream,\n\u001b[1;32m    296\u001b[0m         request_id\u001b[39m=\u001b[39;49mrequest_id,\n\u001b[1;32m    297\u001b[0m         request_timeout\u001b[39m=\u001b[39;49mrequest_timeout,\n\u001b[1;32m    298\u001b[0m     )\n\u001b[1;32m    299\u001b[0m     resp, got_stream \u001b[39m=\u001b[39m \u001b[39mself\u001b[39m\u001b[39m.\u001b[39m_interpret_response(result, stream)\n\u001b[1;32m    300\u001b[0m     \u001b[39mreturn\u001b[39;00m resp, got_stream, \u001b[39mself\u001b[39m\u001b[39m.\u001b[39mapi_key\n",
      "File \u001b[0;32m~/src/github.com/yoshino/prisoner’s-dilemma-with-llm/.venv/lib/python3.11/site-packages/openai/api_requestor.py:606\u001b[0m, in \u001b[0;36mAPIRequestor.request_raw\u001b[0;34m(self, method, url, params, supplied_headers, files, stream, request_id, request_timeout)\u001b[0m\n\u001b[1;32m    604\u001b[0m     _thread_context\u001b[39m.\u001b[39msession_create_time \u001b[39m=\u001b[39m time\u001b[39m.\u001b[39mtime()\n\u001b[1;32m    605\u001b[0m \u001b[39mtry\u001b[39;00m:\n\u001b[0;32m--> 606\u001b[0m     result \u001b[39m=\u001b[39m _thread_context\u001b[39m.\u001b[39;49msession\u001b[39m.\u001b[39;49mrequest(\n\u001b[1;32m    607\u001b[0m         method,\n\u001b[1;32m    608\u001b[0m         abs_url,\n\u001b[1;32m    609\u001b[0m         headers\u001b[39m=\u001b[39;49mheaders,\n\u001b[1;32m    610\u001b[0m         data\u001b[39m=\u001b[39;49mdata,\n\u001b[1;32m    611\u001b[0m         files\u001b[39m=\u001b[39;49mfiles,\n\u001b[1;32m    612\u001b[0m         stream\u001b[39m=\u001b[39;49mstream,\n\u001b[1;32m    613\u001b[0m         timeout\u001b[39m=\u001b[39;49mrequest_timeout \u001b[39mif\u001b[39;49;00m request_timeout \u001b[39melse\u001b[39;49;00m TIMEOUT_SECS,\n\u001b[1;32m    614\u001b[0m         proxies\u001b[39m=\u001b[39;49m_thread_context\u001b[39m.\u001b[39;49msession\u001b[39m.\u001b[39;49mproxies,\n\u001b[1;32m    615\u001b[0m     )\n\u001b[1;32m    616\u001b[0m \u001b[39mexcept\u001b[39;00m requests\u001b[39m.\u001b[39mexceptions\u001b[39m.\u001b[39mTimeout \u001b[39mas\u001b[39;00m e:\n\u001b[1;32m    617\u001b[0m     \u001b[39mraise\u001b[39;00m error\u001b[39m.\u001b[39mTimeout(\u001b[39m\"\u001b[39m\u001b[39mRequest timed out: \u001b[39m\u001b[39m{}\u001b[39;00m\u001b[39m\"\u001b[39m\u001b[39m.\u001b[39mformat(e)) \u001b[39mfrom\u001b[39;00m \u001b[39me\u001b[39;00m\n",
      "File \u001b[0;32m~/src/github.com/yoshino/prisoner’s-dilemma-with-llm/.venv/lib/python3.11/site-packages/requests/sessions.py:589\u001b[0m, in \u001b[0;36mSession.request\u001b[0;34m(self, method, url, params, data, headers, cookies, files, auth, timeout, allow_redirects, proxies, hooks, stream, verify, cert, json)\u001b[0m\n\u001b[1;32m    584\u001b[0m send_kwargs \u001b[39m=\u001b[39m {\n\u001b[1;32m    585\u001b[0m     \u001b[39m\"\u001b[39m\u001b[39mtimeout\u001b[39m\u001b[39m\"\u001b[39m: timeout,\n\u001b[1;32m    586\u001b[0m     \u001b[39m\"\u001b[39m\u001b[39mallow_redirects\u001b[39m\u001b[39m\"\u001b[39m: allow_redirects,\n\u001b[1;32m    587\u001b[0m }\n\u001b[1;32m    588\u001b[0m send_kwargs\u001b[39m.\u001b[39mupdate(settings)\n\u001b[0;32m--> 589\u001b[0m resp \u001b[39m=\u001b[39m \u001b[39mself\u001b[39;49m\u001b[39m.\u001b[39;49msend(prep, \u001b[39m*\u001b[39;49m\u001b[39m*\u001b[39;49msend_kwargs)\n\u001b[1;32m    591\u001b[0m \u001b[39mreturn\u001b[39;00m resp\n",
      "File \u001b[0;32m~/src/github.com/yoshino/prisoner’s-dilemma-with-llm/.venv/lib/python3.11/site-packages/requests/sessions.py:703\u001b[0m, in \u001b[0;36mSession.send\u001b[0;34m(self, request, **kwargs)\u001b[0m\n\u001b[1;32m    700\u001b[0m start \u001b[39m=\u001b[39m preferred_clock()\n\u001b[1;32m    702\u001b[0m \u001b[39m# Send the request\u001b[39;00m\n\u001b[0;32m--> 703\u001b[0m r \u001b[39m=\u001b[39m adapter\u001b[39m.\u001b[39;49msend(request, \u001b[39m*\u001b[39;49m\u001b[39m*\u001b[39;49mkwargs)\n\u001b[1;32m    705\u001b[0m \u001b[39m# Total elapsed time of the request (approximately)\u001b[39;00m\n\u001b[1;32m    706\u001b[0m elapsed \u001b[39m=\u001b[39m preferred_clock() \u001b[39m-\u001b[39m start\n",
      "File \u001b[0;32m~/src/github.com/yoshino/prisoner’s-dilemma-with-llm/.venv/lib/python3.11/site-packages/requests/adapters.py:486\u001b[0m, in \u001b[0;36mHTTPAdapter.send\u001b[0;34m(self, request, stream, timeout, verify, cert, proxies)\u001b[0m\n\u001b[1;32m    483\u001b[0m     timeout \u001b[39m=\u001b[39m TimeoutSauce(connect\u001b[39m=\u001b[39mtimeout, read\u001b[39m=\u001b[39mtimeout)\n\u001b[1;32m    485\u001b[0m \u001b[39mtry\u001b[39;00m:\n\u001b[0;32m--> 486\u001b[0m     resp \u001b[39m=\u001b[39m conn\u001b[39m.\u001b[39;49murlopen(\n\u001b[1;32m    487\u001b[0m         method\u001b[39m=\u001b[39;49mrequest\u001b[39m.\u001b[39;49mmethod,\n\u001b[1;32m    488\u001b[0m         url\u001b[39m=\u001b[39;49murl,\n\u001b[1;32m    489\u001b[0m         body\u001b[39m=\u001b[39;49mrequest\u001b[39m.\u001b[39;49mbody,\n\u001b[1;32m    490\u001b[0m         headers\u001b[39m=\u001b[39;49mrequest\u001b[39m.\u001b[39;49mheaders,\n\u001b[1;32m    491\u001b[0m         redirect\u001b[39m=\u001b[39;49m\u001b[39mFalse\u001b[39;49;00m,\n\u001b[1;32m    492\u001b[0m         assert_same_host\u001b[39m=\u001b[39;49m\u001b[39mFalse\u001b[39;49;00m,\n\u001b[1;32m    493\u001b[0m         preload_content\u001b[39m=\u001b[39;49m\u001b[39mFalse\u001b[39;49;00m,\n\u001b[1;32m    494\u001b[0m         decode_content\u001b[39m=\u001b[39;49m\u001b[39mFalse\u001b[39;49;00m,\n\u001b[1;32m    495\u001b[0m         retries\u001b[39m=\u001b[39;49m\u001b[39mself\u001b[39;49m\u001b[39m.\u001b[39;49mmax_retries,\n\u001b[1;32m    496\u001b[0m         timeout\u001b[39m=\u001b[39;49mtimeout,\n\u001b[1;32m    497\u001b[0m         chunked\u001b[39m=\u001b[39;49mchunked,\n\u001b[1;32m    498\u001b[0m     )\n\u001b[1;32m    500\u001b[0m \u001b[39mexcept\u001b[39;00m (ProtocolError, \u001b[39mOSError\u001b[39;00m) \u001b[39mas\u001b[39;00m err:\n\u001b[1;32m    501\u001b[0m     \u001b[39mraise\u001b[39;00m \u001b[39mConnectionError\u001b[39;00m(err, request\u001b[39m=\u001b[39mrequest)\n",
      "File \u001b[0;32m~/src/github.com/yoshino/prisoner’s-dilemma-with-llm/.venv/lib/python3.11/site-packages/urllib3/connectionpool.py:791\u001b[0m, in \u001b[0;36mHTTPConnectionPool.urlopen\u001b[0;34m(self, method, url, body, headers, retries, redirect, assert_same_host, timeout, pool_timeout, release_conn, chunked, body_pos, preload_content, decode_content, **response_kw)\u001b[0m\n\u001b[1;32m    788\u001b[0m response_conn \u001b[39m=\u001b[39m conn \u001b[39mif\u001b[39;00m \u001b[39mnot\u001b[39;00m release_conn \u001b[39melse\u001b[39;00m \u001b[39mNone\u001b[39;00m\n\u001b[1;32m    790\u001b[0m \u001b[39m# Make the request on the HTTPConnection object\u001b[39;00m\n\u001b[0;32m--> 791\u001b[0m response \u001b[39m=\u001b[39m \u001b[39mself\u001b[39;49m\u001b[39m.\u001b[39;49m_make_request(\n\u001b[1;32m    792\u001b[0m     conn,\n\u001b[1;32m    793\u001b[0m     method,\n\u001b[1;32m    794\u001b[0m     url,\n\u001b[1;32m    795\u001b[0m     timeout\u001b[39m=\u001b[39;49mtimeout_obj,\n\u001b[1;32m    796\u001b[0m     body\u001b[39m=\u001b[39;49mbody,\n\u001b[1;32m    797\u001b[0m     headers\u001b[39m=\u001b[39;49mheaders,\n\u001b[1;32m    798\u001b[0m     chunked\u001b[39m=\u001b[39;49mchunked,\n\u001b[1;32m    799\u001b[0m     retries\u001b[39m=\u001b[39;49mretries,\n\u001b[1;32m    800\u001b[0m     response_conn\u001b[39m=\u001b[39;49mresponse_conn,\n\u001b[1;32m    801\u001b[0m     preload_content\u001b[39m=\u001b[39;49mpreload_content,\n\u001b[1;32m    802\u001b[0m     decode_content\u001b[39m=\u001b[39;49mdecode_content,\n\u001b[1;32m    803\u001b[0m     \u001b[39m*\u001b[39;49m\u001b[39m*\u001b[39;49mresponse_kw,\n\u001b[1;32m    804\u001b[0m )\n\u001b[1;32m    806\u001b[0m \u001b[39m# Everything went great!\u001b[39;00m\n\u001b[1;32m    807\u001b[0m clean_exit \u001b[39m=\u001b[39m \u001b[39mTrue\u001b[39;00m\n",
      "File \u001b[0;32m~/src/github.com/yoshino/prisoner’s-dilemma-with-llm/.venv/lib/python3.11/site-packages/urllib3/connectionpool.py:537\u001b[0m, in \u001b[0;36mHTTPConnectionPool._make_request\u001b[0;34m(self, conn, method, url, body, headers, retries, timeout, chunked, response_conn, preload_content, decode_content, enforce_content_length)\u001b[0m\n\u001b[1;32m    535\u001b[0m \u001b[39m# Receive the response from the server\u001b[39;00m\n\u001b[1;32m    536\u001b[0m \u001b[39mtry\u001b[39;00m:\n\u001b[0;32m--> 537\u001b[0m     response \u001b[39m=\u001b[39m conn\u001b[39m.\u001b[39;49mgetresponse()\n\u001b[1;32m    538\u001b[0m \u001b[39mexcept\u001b[39;00m (BaseSSLError, \u001b[39mOSError\u001b[39;00m) \u001b[39mas\u001b[39;00m e:\n\u001b[1;32m    539\u001b[0m     \u001b[39mself\u001b[39m\u001b[39m.\u001b[39m_raise_timeout(err\u001b[39m=\u001b[39me, url\u001b[39m=\u001b[39murl, timeout_value\u001b[39m=\u001b[39mread_timeout)\n",
      "File \u001b[0;32m~/src/github.com/yoshino/prisoner’s-dilemma-with-llm/.venv/lib/python3.11/site-packages/urllib3/connection.py:461\u001b[0m, in \u001b[0;36mHTTPConnection.getresponse\u001b[0;34m(self)\u001b[0m\n\u001b[1;32m    458\u001b[0m \u001b[39mfrom\u001b[39;00m \u001b[39m.\u001b[39;00m\u001b[39mresponse\u001b[39;00m \u001b[39mimport\u001b[39;00m HTTPResponse\n\u001b[1;32m    460\u001b[0m \u001b[39m# Get the response from http.client.HTTPConnection\u001b[39;00m\n\u001b[0;32m--> 461\u001b[0m httplib_response \u001b[39m=\u001b[39m \u001b[39msuper\u001b[39;49m()\u001b[39m.\u001b[39;49mgetresponse()\n\u001b[1;32m    463\u001b[0m \u001b[39mtry\u001b[39;00m:\n\u001b[1;32m    464\u001b[0m     assert_header_parsing(httplib_response\u001b[39m.\u001b[39mmsg)\n",
      "File \u001b[0;32m~/.pyenv/versions/3.11.2/lib/python3.11/http/client.py:1374\u001b[0m, in \u001b[0;36mHTTPConnection.getresponse\u001b[0;34m(self)\u001b[0m\n\u001b[1;32m   1372\u001b[0m \u001b[39mtry\u001b[39;00m:\n\u001b[1;32m   1373\u001b[0m     \u001b[39mtry\u001b[39;00m:\n\u001b[0;32m-> 1374\u001b[0m         response\u001b[39m.\u001b[39;49mbegin()\n\u001b[1;32m   1375\u001b[0m     \u001b[39mexcept\u001b[39;00m \u001b[39mConnectionError\u001b[39;00m:\n\u001b[1;32m   1376\u001b[0m         \u001b[39mself\u001b[39m\u001b[39m.\u001b[39mclose()\n",
      "File \u001b[0;32m~/.pyenv/versions/3.11.2/lib/python3.11/http/client.py:318\u001b[0m, in \u001b[0;36mHTTPResponse.begin\u001b[0;34m(self)\u001b[0m\n\u001b[1;32m    316\u001b[0m \u001b[39m# read until we get a non-100 response\u001b[39;00m\n\u001b[1;32m    317\u001b[0m \u001b[39mwhile\u001b[39;00m \u001b[39mTrue\u001b[39;00m:\n\u001b[0;32m--> 318\u001b[0m     version, status, reason \u001b[39m=\u001b[39m \u001b[39mself\u001b[39;49m\u001b[39m.\u001b[39;49m_read_status()\n\u001b[1;32m    319\u001b[0m     \u001b[39mif\u001b[39;00m status \u001b[39m!=\u001b[39m CONTINUE:\n\u001b[1;32m    320\u001b[0m         \u001b[39mbreak\u001b[39;00m\n",
      "File \u001b[0;32m~/.pyenv/versions/3.11.2/lib/python3.11/http/client.py:279\u001b[0m, in \u001b[0;36mHTTPResponse._read_status\u001b[0;34m(self)\u001b[0m\n\u001b[1;32m    278\u001b[0m \u001b[39mdef\u001b[39;00m \u001b[39m_read_status\u001b[39m(\u001b[39mself\u001b[39m):\n\u001b[0;32m--> 279\u001b[0m     line \u001b[39m=\u001b[39m \u001b[39mstr\u001b[39m(\u001b[39mself\u001b[39m\u001b[39m.\u001b[39mfp\u001b[39m.\u001b[39mreadline(_MAXLINE \u001b[39m+\u001b[39m \u001b[39m1\u001b[39m), \u001b[39m\"\u001b[39m\u001b[39miso-8859-1\u001b[39m\u001b[39m\"\u001b[39m)\n\u001b[1;32m    280\u001b[0m     \u001b[39mif\u001b[39;00m \u001b[39mlen\u001b[39m(line) \u001b[39m>\u001b[39m _MAXLINE:\n\u001b[1;32m    281\u001b[0m         \u001b[39mraise\u001b[39;00m LineTooLong(\u001b[39m\"\u001b[39m\u001b[39mstatus line\u001b[39m\u001b[39m\"\u001b[39m)\n",
      "File \u001b[0;32m~/.pyenv/versions/3.11.2/lib/python3.11/socket.py:706\u001b[0m, in \u001b[0;36mSocketIO.readinto\u001b[0;34m(self, b)\u001b[0m\n\u001b[1;32m    704\u001b[0m \u001b[39mwhile\u001b[39;00m \u001b[39mTrue\u001b[39;00m:\n\u001b[1;32m    705\u001b[0m     \u001b[39mtry\u001b[39;00m:\n\u001b[0;32m--> 706\u001b[0m         \u001b[39mreturn\u001b[39;00m \u001b[39mself\u001b[39;49m\u001b[39m.\u001b[39;49m_sock\u001b[39m.\u001b[39;49mrecv_into(b)\n\u001b[1;32m    707\u001b[0m     \u001b[39mexcept\u001b[39;00m timeout:\n\u001b[1;32m    708\u001b[0m         \u001b[39mself\u001b[39m\u001b[39m.\u001b[39m_timeout_occurred \u001b[39m=\u001b[39m \u001b[39mTrue\u001b[39;00m\n",
      "File \u001b[0;32m~/.pyenv/versions/3.11.2/lib/python3.11/ssl.py:1278\u001b[0m, in \u001b[0;36mSSLSocket.recv_into\u001b[0;34m(self, buffer, nbytes, flags)\u001b[0m\n\u001b[1;32m   1274\u001b[0m     \u001b[39mif\u001b[39;00m flags \u001b[39m!=\u001b[39m \u001b[39m0\u001b[39m:\n\u001b[1;32m   1275\u001b[0m         \u001b[39mraise\u001b[39;00m \u001b[39mValueError\u001b[39;00m(\n\u001b[1;32m   1276\u001b[0m           \u001b[39m\"\u001b[39m\u001b[39mnon-zero flags not allowed in calls to recv_into() on \u001b[39m\u001b[39m%s\u001b[39;00m\u001b[39m\"\u001b[39m \u001b[39m%\u001b[39m\n\u001b[1;32m   1277\u001b[0m           \u001b[39mself\u001b[39m\u001b[39m.\u001b[39m\u001b[39m__class__\u001b[39m)\n\u001b[0;32m-> 1278\u001b[0m     \u001b[39mreturn\u001b[39;00m \u001b[39mself\u001b[39;49m\u001b[39m.\u001b[39;49mread(nbytes, buffer)\n\u001b[1;32m   1279\u001b[0m \u001b[39melse\u001b[39;00m:\n\u001b[1;32m   1280\u001b[0m     \u001b[39mreturn\u001b[39;00m \u001b[39msuper\u001b[39m()\u001b[39m.\u001b[39mrecv_into(buffer, nbytes, flags)\n",
      "File \u001b[0;32m~/.pyenv/versions/3.11.2/lib/python3.11/ssl.py:1134\u001b[0m, in \u001b[0;36mSSLSocket.read\u001b[0;34m(self, len, buffer)\u001b[0m\n\u001b[1;32m   1132\u001b[0m \u001b[39mtry\u001b[39;00m:\n\u001b[1;32m   1133\u001b[0m     \u001b[39mif\u001b[39;00m buffer \u001b[39mis\u001b[39;00m \u001b[39mnot\u001b[39;00m \u001b[39mNone\u001b[39;00m:\n\u001b[0;32m-> 1134\u001b[0m         \u001b[39mreturn\u001b[39;00m \u001b[39mself\u001b[39;49m\u001b[39m.\u001b[39;49m_sslobj\u001b[39m.\u001b[39;49mread(\u001b[39mlen\u001b[39;49m, buffer)\n\u001b[1;32m   1135\u001b[0m     \u001b[39melse\u001b[39;00m:\n\u001b[1;32m   1136\u001b[0m         \u001b[39mreturn\u001b[39;00m \u001b[39mself\u001b[39m\u001b[39m.\u001b[39m_sslobj\u001b[39m.\u001b[39mread(\u001b[39mlen\u001b[39m)\n",
      "\u001b[0;31mKeyboardInterrupt\u001b[0m: "
     ]
    }
   ],
   "source": [
    "player1 = Player()\n",
    "\n",
    "for i in range(1, 11):\n",
    "    print(\"Round {}\".format(i))\n",
    "    player1.act()\n",
    "\n",
    "    print(\"Player 1: {}\".format(player1.choices))\n",
    "\n",
    "    player2_choice = \"F\" if i == 1 else \"J\"\n",
    "    print(\"Player 2: {}\".format(player2_choice))\n",
    "\n",
    "    # player2 choice \"F\" all the time.\n",
    "    score1, message1 = Referee.judge(i, player1.last_choice(), player2_choice)\n",
    "    player1.update(score1, message1)"
   ]
  }
 ],
 "metadata": {
  "kernelspec": {
   "display_name": "Python 3",
   "language": "python",
   "name": "python3"
  },
  "language_info": {
   "codemirror_mode": {
    "name": "ipython",
    "version": 3
   },
   "file_extension": ".py",
   "mimetype": "text/x-python",
   "name": "python",
   "nbconvert_exporter": "python",
   "pygments_lexer": "ipython3",
   "version": "3.11.2"
  }
 },
 "nbformat": 4,
 "nbformat_minor": 2
}
